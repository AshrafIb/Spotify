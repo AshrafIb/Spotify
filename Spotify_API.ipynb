{
 "cells": [
  {
   "cell_type": "markdown",
   "metadata": {},
   "source": [
    "# Module "
   ]
  },
  {
   "cell_type": "code",
   "execution_count": 161,
   "metadata": {
    "ExecuteTime": {
     "end_time": "2020-03-08T16:04:32.877319Z",
     "start_time": "2020-03-08T16:04:32.873330Z"
    }
   },
   "outputs": [],
   "source": [
    "import spotipy \n",
    "import requests \n",
    "import pandas as pd\n",
    "import ast\n",
    "import configparser\n",
    "from typing import List\n",
    "from os import listdir\n",
    "import spotipy.util as util\n",
    "from datetime import datetime"
   ]
  },
  {
   "cell_type": "markdown",
   "metadata": {},
   "source": [
    "# Config Eingaben, Pfad und Token"
   ]
  },
  {
   "cell_type": "code",
   "execution_count": 156,
   "metadata": {
    "ExecuteTime": {
     "end_time": "2020-03-08T16:01:56.493339Z",
     "start_time": "2020-03-08T16:01:56.489162Z"
    }
   },
   "outputs": [],
   "source": [
    "username = ''\n",
    "config = configparser.ConfigParser()\n",
    "# Config spezifizieren\n",
    "config.read('config.cfg')\n",
    "client_id = config.get('SPOTIFY', 'CLIENT_ID')\n",
    "client_secret = config.get('SPOTIFY', 'CLIENT_SECRET')\n",
    "scope = 'user-read-recently-played'\n",
    "redirect_uri = 'http://localhost:7777/callback'"
   ]
  },
  {
   "cell_type": "code",
   "execution_count": null,
   "metadata": {},
   "outputs": [],
   "source": [
    "token = util.prompt_for_user_token(username=username, \n",
    "                                   scope=scope, \n",
    "                                   client_id=client_id,   \n",
    "                                   client_secret=client_secret,     \n",
    "                                   redirect_uri=redirect_uri)"
   ]
  },
  {
   "cell_type": "markdown",
   "metadata": {
    "ExecuteTime": {
     "end_time": "2020-03-08T16:05:15.987378Z",
     "start_time": "2020-03-08T16:05:15.984386Z"
    }
   },
   "source": [
    "# Funktionen "
   ]
  },
  {
   "cell_type": "markdown",
   "metadata": {},
   "source": [
    "## Streamings ablesen "
   ]
  },
  {
   "cell_type": "code",
   "execution_count": 165,
   "metadata": {
    "ExecuteTime": {
     "end_time": "2020-03-08T16:08:23.367198Z",
     "start_time": "2020-03-08T16:08:23.362212Z"
    }
   },
   "outputs": [],
   "source": [
    "def get_streamings(path: str = 'path') -> List[dict]:\n",
    "    '''\n",
    "    input = path der spotify-daten\n",
    "    \n",
    "    return = list mit allen Streamings\n",
    "    \n",
    "    '''\n",
    "    files = ['Path' + x for x in listdir(path)\n",
    "             if x.split('.')[0][:-1] == 'StreamingHistory']\n",
    "    \n",
    "    all_streamings = []\n",
    "    \n",
    "    for file in files: \n",
    "        with open(file, 'r', encoding='UTF-8') as f:\n",
    "            new_streamings = ast.literal_eval(f.read())\n",
    "            all_streamings += [streaming for streaming in new_streamings]\n",
    "            \n",
    "        for streaming in all_streamings:\n",
    "            streaming['datetime'] = datetime.strptime(streaming['endTime'], '%Y-%m-%d %H:%M')\n",
    "    return all_streamings"
   ]
  },
  {
   "cell_type": "markdown",
   "metadata": {},
   "source": [
    "## Song id "
   ]
  },
  {
   "cell_type": "code",
   "execution_count": 223,
   "metadata": {
    "ExecuteTime": {
     "end_time": "2020-03-08T16:46:34.517543Z",
     "start_time": "2020-03-08T16:46:34.512830Z"
    }
   },
   "outputs": [],
   "source": [
    "def get_id(track_name: str, token: str, artist: str):\n",
    "    '''\n",
    "    input: \n",
    "    track name,\n",
    "    token (zugriffsberechtigung),\n",
    "    artist (Künstlername)\n",
    "    \n",
    "    return = track_id\n",
    "    \n",
    "    '''\n",
    "    \n",
    "    headers = {\n",
    "    'Accept': 'application/json',\n",
    "    'Content-Type': 'application/json',\n",
    "    'Authorization': f'Bearer ' + token,\n",
    "    }\n",
    "    params = [\n",
    "        ('q','{}&' and '&{}'.format(track_name, artist)),\n",
    "        ('type', 'track'),\n",
    "    ]\n",
    "    \n",
    "    response = requests.get('https://api.spotify.com/v1/search', \n",
    "                headers = headers, params = params, timeout = 5)\n",
    "    json = response.json()\n",
    "    first_result = json['tracks']['items'][0]\n",
    "    track_id = first_result['id']\n",
    "    return track_id"
   ]
  },
  {
   "cell_type": "code",
   "execution_count": 213,
   "metadata": {
    "ExecuteTime": {
     "end_time": "2020-03-08T16:38:25.932761Z",
     "start_time": "2020-03-08T16:38:25.929768Z"
    }
   },
   "outputs": [],
   "source": [
    "def get_features(track_id: str, token: str ) -> dict:\n",
    "    sp = spotipy.Spotify(auth=token)\n",
    "    try:\n",
    "        features = sp.audio_features([track_id])\n",
    "        return features[0]\n",
    "    except:\n",
    "        return None"
   ]
  },
  {
   "cell_type": "code",
   "execution_count": 221,
   "metadata": {
    "ExecuteTime": {
     "end_time": "2020-03-08T16:45:08.367611Z",
     "start_time": "2020-03-08T16:45:08.224608Z"
    }
   },
   "outputs": [
    {
     "name": "stdout",
     "output_type": "stream",
     "text": [
      "5GbVzc6Ex5LYlLJqzRQhuy\n"
     ]
    }
   ],
   "source": [
    "lucy_id = get_id('Mystery of Love', token, 'Sufjan Stevens')\n",
    "print(lucy_id)"
   ]
  },
  {
   "cell_type": "code",
   "execution_count": 222,
   "metadata": {
    "ExecuteTime": {
     "end_time": "2020-03-08T16:45:17.855629Z",
     "start_time": "2020-03-08T16:45:17.695774Z"
    }
   },
   "outputs": [
    {
     "name": "stdout",
     "output_type": "stream",
     "text": [
      "{'danceability': 0.365, 'energy': 0.273, 'key': 4, 'loudness': -16.526, 'mode': 0, 'speechiness': 0.038, 'acousticness': 0.94, 'instrumentalness': 0.431, 'liveness': 0.109, 'valence': 0.238, 'tempo': 132.285, 'type': 'audio_features', 'id': '5GbVzc6Ex5LYlLJqzRQhuy', 'uri': 'spotify:track:5GbVzc6Ex5LYlLJqzRQhuy', 'track_href': 'https://api.spotify.com/v1/tracks/5GbVzc6Ex5LYlLJqzRQhuy', 'analysis_url': 'https://api.spotify.com/v1/audio-analysis/5GbVzc6Ex5LYlLJqzRQhuy', 'duration_ms': 248960, 'time_signature': 5}\n"
     ]
    }
   ],
   "source": [
    "lucy_features = get_features(lucy_id, token)\n",
    "print(lucy_features)"
   ]
  },
  {
   "cell_type": "code",
   "execution_count": null,
   "metadata": {},
   "outputs": [],
   "source": [
    "streamings = get_streamings()\n",
    "unique_tracks = list(set([streaming['trackName'] \n",
    "                for streaming in streamings]))\n",
    "\n",
    "all_features = {}\n",
    "for track in unique_tracks:\n",
    "    track_id = get_id(track, token)\n",
    "    features = get_features(track_id, token)\n",
    "    if features:\n",
    "        all_features[track] = features\n",
    "        \n",
    "with_features = []\n",
    "for track_name, features in all_features.items():\n",
    "    with_features.append({'name': track_name, **features})"
   ]
  }
 ],
 "metadata": {
  "kernelspec": {
   "display_name": "Python 3",
   "language": "python",
   "name": "python3"
  },
  "language_info": {
   "codemirror_mode": {
    "name": "ipython",
    "version": 3
   },
   "file_extension": ".py",
   "mimetype": "text/x-python",
   "name": "python",
   "nbconvert_exporter": "python",
   "pygments_lexer": "ipython3",
   "version": "3.7.6"
  },
  "toc": {
   "base_numbering": 1,
   "nav_menu": {},
   "number_sections": true,
   "sideBar": true,
   "skip_h1_title": false,
   "title_cell": "Table of Contents",
   "title_sidebar": "Contents",
   "toc_cell": false,
   "toc_position": {},
   "toc_section_display": true,
   "toc_window_display": false
  }
 },
 "nbformat": 4,
 "nbformat_minor": 4
}
